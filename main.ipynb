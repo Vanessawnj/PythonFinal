{
 "cells": [
  {
   "cell_type": "code",
   "execution_count": 56,
   "metadata": {},
   "outputs": [],
   "source": [
    "H1 = \"\"\n",
    "H2 = \"Vanessa Wu\"\n",
    "H3 = \"11/12/2023\""
   ]
  },
  {
   "attachments": {},
   "cell_type": "markdown",
   "metadata": {},
   "source": [
    "---"
   ]
  },
  {
   "cell_type": "code",
   "execution_count": 57,
   "metadata": {},
   "outputs": [
    {
     "name": "stdout",
     "output_type": "stream",
     "text": [
      "Use Descriptive Names, Avoid using reserved words like 'if', 'else'...etc.\n"
     ]
    }
   ],
   "source": [
    "#Q1\n",
    "print(\"Use Descriptive Names, Avoid using reserved words like 'if', 'else'...etc.\")"
   ]
  },
  {
   "cell_type": "code",
   "execution_count": 58,
   "metadata": {},
   "outputs": [
    {
     "name": "stdout",
     "output_type": "stream",
     "text": [
      "Integers (int) and Floating Point Numbers (float)\n"
     ]
    }
   ],
   "source": [
    "#Q2\n",
    "print(\"Integers (int) and Floating Point Numbers (float)\")"
   ]
  },
  {
   "cell_type": "code",
   "execution_count": 1,
   "metadata": {},
   "outputs": [
    {
     "name": "stdout",
     "output_type": "stream",
     "text": [
      "Different data types occupy different amounts of memory. Identifying the correct data type can help the computer allocate the correct amount of memory\n"
     ]
    }
   ],
   "source": [
    "#Q3\n",
    "print(\"Different data types occupy different amounts of memory. Identifying the correct data type can help the computer allocate the correct amount of memory\")"
   ]
  },
  {
   "cell_type": "code",
   "execution_count": 2,
   "metadata": {},
   "outputs": [
    {
     "name": "stdout",
     "output_type": "stream",
     "text": [
      "By using type() method like the one demonstrated below:\n",
      "<class 'float'>\n"
     ]
    }
   ],
   "source": [
    "#Q4\n",
    "print(\"By using type() method like the one demonstrated below:\")\n",
    "a = 123.0\n",
    "print(type(a))"
   ]
  },
  {
   "cell_type": "code",
   "execution_count": 4,
   "metadata": {},
   "outputs": [],
   "source": [
    "#Q5\n",
    "state = \"Washington D.C.\""
   ]
  },
  {
   "cell_type": "code",
   "execution_count": 62,
   "metadata": {},
   "outputs": [
    {
     "name": "stdout",
     "output_type": "stream",
     "text": [
      "We can use the replace() method as demonstrated below:\n",
      "Washington DC\n"
     ]
    }
   ],
   "source": [
    "#Q6\n",
    "print(\"We can use the replace() method as demonstrated below:\")\n",
    "state_without_period = state.replace(\".\",\"\")\n",
    "print(state_without_period)"
   ]
  },
  {
   "cell_type": "code",
   "execution_count": 63,
   "metadata": {},
   "outputs": [
    {
     "name": "stdout",
     "output_type": "stream",
     "text": [
      "W is the first character. We can access it using direct indexing and negative indexing\n",
      "W\n",
      "W\n"
     ]
    }
   ],
   "source": [
    "#Q7\n",
    "print(\"W is the first character. We can access it using direct indexing and negative indexing\")\n",
    "print(state[0])\n",
    "print(state[-len(state)])"
   ]
  },
  {
   "cell_type": "code",
   "execution_count": 28,
   "metadata": {},
   "outputs": [
    {
     "name": "stdout",
     "output_type": "stream",
     "text": [
      "[100, 101, 102, 103, 104, 105, 106, 107, 108, 109, 110]\n"
     ]
    }
   ],
   "source": [
    "#Q8\n",
    "employee_id = list(range(100,111))\n",
    "print(employee_id)"
   ]
  },
  {
   "cell_type": "code",
   "execution_count": 30,
   "metadata": {},
   "outputs": [
    {
     "name": "stdout",
     "output_type": "stream",
     "text": [
      "Sales\n",
      "Sales\n",
      "Sales\n",
      "Sales\n",
      "Sales\n",
      "Finance\n",
      "Finance\n",
      "Finance\n",
      "Finance\n",
      "Finance\n",
      "Finance\n"
     ]
    }
   ],
   "source": [
    "#Q9\n",
    "for id in employee_id:\n",
    "    if id < 105:\n",
    "        print(\"Sales\")\n",
    "    else:\n",
    "        print(\"Finance\")"
   ]
  },
  {
   "cell_type": "code",
   "execution_count": 32,
   "metadata": {},
   "outputs": [
    {
     "name": "stdout",
     "output_type": "stream",
     "text": [
      "Thank you for your purchase!\n"
     ]
    }
   ],
   "source": [
    "#Q10\n",
    "user_action = \"buy\"\n",
    "\n",
    "if user_action == \"buy\":\n",
    "    print(\"Thank you for your purchase!\")"
   ]
  },
  {
   "cell_type": "code",
   "execution_count": 33,
   "metadata": {},
   "outputs": [
    {
     "name": "stdout",
     "output_type": "stream",
     "text": [
      "Thank you for your purchase!\n"
     ]
    }
   ],
   "source": [
    "#Q11\n",
    "if user_action == \"buy\":\n",
    "    print(\"Thank you for your purchase!\")\n",
    "else:\n",
    "    print(\"Need more time?\")"
   ]
  },
  {
   "cell_type": "code",
   "execution_count": 39,
   "metadata": {},
   "outputs": [
    {
     "name": "stdout",
     "output_type": "stream",
     "text": [
      "High\n",
      "Mid\n",
      "Mid\n",
      "High\n",
      "Mid\n",
      "Low\n",
      "High\n",
      "Low\n",
      "Mid\n",
      "Mid\n"
     ]
    }
   ],
   "source": [
    "#Q12\n",
    "stock_prices = [845, 297, 259, 878, 658, 73, 853, 163, 327, 427]\n",
    "high = 767\n",
    "low = 189\n",
    "for price in stock_prices:\n",
    "    if price > high:\n",
    "        print(\"High\")\n",
    "    elif price > low:\n",
    "        print(\"Mid\")\n",
    "    else:\n",
    "        print(\"Low\")"
   ]
  },
  {
   "cell_type": "code",
   "execution_count": 40,
   "metadata": {},
   "outputs": [
    {
     "data": {
      "text/plain": [
       "[1, 7]"
      ]
     },
     "execution_count": 40,
     "metadata": {},
     "output_type": "execute_result"
    }
   ],
   "source": [
    "#Q13\n",
    "def first_and_last(l):\n",
    "    first_element = l[0]\n",
    "    last_element = l[-1]\n",
    "    new_list = [first_element, last_element]\n",
    "    return new_list\n",
    "\n",
    "#Example usage\n",
    "first_and_last([1,5,7,2,4,7])"
   ]
  },
  {
   "cell_type": "code",
   "execution_count": 41,
   "metadata": {},
   "outputs": [
    {
     "name": "stdout",
     "output_type": "stream",
     "text": [
      "Total equity is zero, cannot compute D/E ratio\n",
      "1.6666666666666667\n"
     ]
    }
   ],
   "source": [
    "#Q14\n",
    "def calculate_debt_to_equity_ratio(total_liabilities, total_equity):\n",
    "    # Check to avoid division by zero\n",
    "    if total_equity == 0:\n",
    "        return \"Total equity is zero, cannot compute D/E ratio\"\n",
    "\n",
    "    return total_liabilities / total_equity\n",
    "\n",
    "#Example usage\n",
    "print(calculate_debt_to_equity_ratio(50000,0))\n",
    "print(calculate_debt_to_equity_ratio(50000,30000))"
   ]
  },
  {
   "cell_type": "code",
   "execution_count": 44,
   "metadata": {},
   "outputs": [
    {
     "name": "stdout",
     "output_type": "stream",
     "text": [
      "Warning\n"
     ]
    }
   ],
   "source": [
    "#Q15\n",
    "def calculate_debt_to_equity_ratio(total_liabilities, total_equity):\n",
    "    # Check to avoid division by zero\n",
    "    if total_equity == 0:\n",
    "        return \"Total equity is zero, cannot compute D/E ratio\"\n",
    "    de_ratio = total_liabilities / total_equity\n",
    "\n",
    "    if de_ratio > 2:\n",
    "        return \"Warning\"\n",
    "        \n",
    "    else:\n",
    "        return \"Ok\"\n",
    "\n",
    "\n",
    "#Example usage\n",
    "print(calculate_debt_to_equity_ratio(50000, 30000))\n",
    "print(calculate_debt_to_equity_ratio(80000, 30000))"
   ]
  },
  {
   "cell_type": "code",
   "execution_count": 72,
   "metadata": {},
   "outputs": [
    {
     "name": "stdout",
     "output_type": "stream",
     "text": [
      "Scope refers to the region or area in a program where a defined variable or function is accessible and can be used.\n",
      "Scope plays a role in memory management. \n",
      "       Local variables (within a specific scope) are typically created when their scope is entered, \n",
      "       and they can be removed from memory when the scope is exited. This efficient use of memory ensures that memory is only used when necessary and freed up when it's no longer needed.\n"
     ]
    }
   ],
   "source": [
    "#Q16\n",
    "print(\"Scope refers to the region or area in a program where a defined variable or function is accessible and can be used.\")\n",
    "print(\"Scope plays a role in memory management. \\n \\\n",
    "      Local variables (within a specific scope) are typically created when their scope is entered, \\n \\\n",
    "      and they can be removed from memory when the scope is exited. This efficient use of memory ensures that memory is only used when necessary and freed up when it's no longer needed.\")"
   ]
  },
  {
   "cell_type": "code",
   "execution_count": 47,
   "metadata": {},
   "outputs": [
    {
     "data": {
      "text/plain": [
       "4000"
      ]
     },
     "execution_count": 47,
     "metadata": {},
     "output_type": "execute_result"
    }
   ],
   "source": [
    "#Q17\n",
    "def compute_function(input1, input2):\n",
    "    base_amount = 50  # Local variable\n",
    "    total_sum = base_amount + input1 + input2  \n",
    "    return total_sum * base_amount\n",
    "\n",
    "#Example usage\n",
    "compute_function(10,20)"
   ]
  },
  {
   "cell_type": "code",
   "execution_count": 48,
   "metadata": {},
   "outputs": [
    {
     "name": "stdout",
     "output_type": "stream",
     "text": [
      "Python throws an NameError when executing print(base_amount). This is because base_amount is a local variable and cannot be accessed in the global env\n"
     ]
    },
    {
     "ename": "NameError",
     "evalue": "name 'base_amount' is not defined",
     "output_type": "error",
     "traceback": [
      "\u001b[1;31m---------------------------------------------------------------------------\u001b[0m",
      "\u001b[1;31mNameError\u001b[0m                                 Traceback (most recent call last)",
      "Cell \u001b[1;32mIn[48], line 3\u001b[0m\n\u001b[0;32m      1\u001b[0m \u001b[39m#18\u001b[39;00m\n\u001b[0;32m      2\u001b[0m \u001b[39mprint\u001b[39m(\u001b[39m\"\u001b[39m\u001b[39mPython throws an NameError when executing print(base_amount). This is because base_amount is a local variable and cannot be accessed in the global env\u001b[39m\u001b[39m\"\u001b[39m)\n\u001b[1;32m----> 3\u001b[0m \u001b[39mprint\u001b[39m(base_amount)\n",
      "\u001b[1;31mNameError\u001b[0m: name 'base_amount' is not defined"
     ]
    }
   ],
   "source": [
    "#18\n",
    "print(\"Python throws an NameError when executing print(base_amount). This is because base_amount is a local variable and cannot be accessed in the global env\")\n",
    "print(base_amount)"
   ]
  },
  {
   "cell_type": "code",
   "execution_count": 49,
   "metadata": {},
   "outputs": [
    {
     "name": "stdout",
     "output_type": "stream",
     "text": [
      "Classes are fundamental constructs that define a new type by bundling data and functionality together. They can be used as blueprints for creating personalized instances known as objects.\n"
     ]
    }
   ],
   "source": [
    "#Q19\n",
    "print(\"Classes are fundamental constructs that define a new type by bundling data and functionality together. They can be used as blueprints for creating personalized instances known as objects.\")"
   ]
  },
  {
   "cell_type": "code",
   "execution_count": 64,
   "metadata": {},
   "outputs": [
    {
     "name": "stdout",
     "output_type": "stream",
     "text": [
      "User1's Last Name: Smith\n",
      "User2's Balance: $5000\n"
     ]
    }
   ],
   "source": [
    "#Q20\n",
    "class User:\n",
    "    def __init__(self, id, lastname, balance):\n",
    "        self.id = id\n",
    "        self.lastname = lastname\n",
    "        self.balance = balance\n",
    "\n",
    "user1 = User(1, \"Smith\", 1000)\n",
    "user2 = User(2, \"Johnson\", 5000)\n",
    "user3 = User(3, \"Williams\", 3000)\n",
    "\n",
    "# Print the last name of user1 and the balance of user2 using an f-string\n",
    "print(f\"User1's Last Name: {user1.lastname}\")\n",
    "print(f\"User2's Balance: ${user2.balance}\")"
   ]
  },
  {
   "cell_type": "code",
   "execution_count": 77,
   "metadata": {},
   "outputs": [
    {
     "name": "stdout",
     "output_type": "stream",
     "text": [
      "The command line is an interface used to interact with local computer. We can type commands into the command line to perform tasks such as navigating through directories, managing files, and executing programs.\n",
      "ls: It shows all the files and directories in current directory\n",
      "pwd: It shows the current working directory\n",
      "cd: It takes one parameter and changes your current directory to the directory you provide\n",
      "mkdir: It would create a new directory in the current working directory\n"
     ]
    }
   ],
   "source": [
    "#Q21\n",
    "print(\"The command line is an interface used to interact with local computer. We can type commands into the command line to perform tasks such as navigating through directories, managing files, and executing programs.\")\n",
    "print(\"ls: It shows all the files and directories in current directory\")\n",
    "print(\"pwd: It shows the current working directory\")\n",
    "print(\"cd: It takes one parameter and changes your current directory to the directory you provide\")\n",
    "print(\"mkdir: It would create a new directory in the current working directory\")"
   ]
  },
  {
   "cell_type": "code",
   "execution_count": 78,
   "metadata": {},
   "outputs": [
    {
     "name": "stdout",
     "output_type": "stream",
     "text": [
      "git is a distributed file system which enables a group of people to work on a mutual project\n",
      "git init: This command initializes a new git repository\n",
      "git status: This command displays the state of the working directory and the staging area\n",
      "git add: This command adds changes in the working directory to the staging area.\n",
      "git commit: This command captures a snapshot of the current changes in the repository.\n",
      "git push: This command is used to upload the local repository content to the remote repository.\n"
     ]
    }
   ],
   "source": [
    "#Q22\n",
    "print(\"git is a distributed file system which enables a group of people to work on a mutual project\")\n",
    "print(\"git init: This command initializes a new git repository\")\n",
    "print(\"git status: This command displays the state of the working directory and the staging area\")\n",
    "print(\"git add: This command adds changes in the working directory to the staging area.\")\n",
    "print(\"git commit: This command captures a snapshot of the current changes in the repository.\")\n",
    "print(\"git push: This command is used to upload the local repository content to the remote repository.\")"
   ]
  },
  {
   "cell_type": "code",
   "execution_count": 79,
   "metadata": {},
   "outputs": [
    {
     "name": "stdout",
     "output_type": "stream",
     "text": [
      "Virtual environment is used to manage different python environments used for different applications. This can avoid package conflictions and improve the performance of the environments\n"
     ]
    }
   ],
   "source": [
    "#Q23\n",
    "print(\"Virtual environment is used to manage different python environments used for different applications. This can avoid package conflictions and improve the performance of the environments\")"
   ]
  },
  {
   "cell_type": "code",
   "execution_count": 80,
   "metadata": {},
   "outputs": [
    {
     "name": "stdout",
     "output_type": "stream",
     "text": [
      "Git and Github are totally different concepts. Github is a hosting service for git repositories. You can definitely use git without Github. It can be used solely on the local machine\n"
     ]
    }
   ],
   "source": [
    "#Q24\n",
    "print(\"Git and Github are totally different concepts. Github is a hosting service for git repositories. You can definitely use git without Github. It can be used solely on the local machine\")"
   ]
  },
  {
   "cell_type": "code",
   "execution_count": 81,
   "metadata": {},
   "outputs": [
    {
     "name": "stdout",
     "output_type": "stream",
     "text": [
      "List comprehension is a concise way to create lists\n"
     ]
    }
   ],
   "source": [
    "#Q25\n",
    "print(\"List comprehension is a concise way to create lists\")\n",
    "cubes = []\n",
    "for number in range(2,5):\n",
    "    cubes.append(number**3)\n",
    "\n",
    "cubes = [number ** 3 for number in range(2,5)]\n"
   ]
  }
 ],
 "metadata": {
  "kernelspec": {
   "display_name": "tf",
   "language": "python",
   "name": "python3"
  },
  "language_info": {
   "codemirror_mode": {
    "name": "ipython",
    "version": 3
   },
   "file_extension": ".py",
   "mimetype": "text/x-python",
   "name": "python",
   "nbconvert_exporter": "python",
   "pygments_lexer": "ipython3",
   "version": "3.9.16"
  },
  "orig_nbformat": 4
 },
 "nbformat": 4,
 "nbformat_minor": 2
}
